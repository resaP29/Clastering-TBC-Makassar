{
 "cells": [
  {
   "cell_type": "markdown",
   "metadata": {
    "id": "fKKo9xjGhLgi"
   },
   "source": [
    "# Import Package"
   ]
  },
  {
   "cell_type": "code",
   "execution_count": 1,
   "metadata": {
    "executionInfo": {
     "elapsed": 1692,
     "status": "ok",
     "timestamp": 1621861731334,
     "user": {
      "displayName": "Muhammad Iqbal Shiddiq",
      "photoUrl": "https://lh3.googleusercontent.com/a-/AOh14GiBh5w-MZRdt09mW-hpJDiqcFisM1bzME_DSe2ELA=s64",
      "userId": "07027177044941519057"
     },
     "user_tz": -420
    },
    "id": "j1cgbecnhczD"
   },
   "outputs": [],
   "source": [
    "import numpy as np\n",
    "import pandas as pd\n",
    "import matplotlib.pyplot as plt\n",
    "import matplotlib.cm as cm\n",
    "from sklearn import preprocessing\n",
    "from sklearn.datasets import make_blobs\n",
    "from sklearn.cluster import KMeans\n",
    "from sklearn.metrics import silhouette_samples, silhouette_score\n",
    "import random\n",
    "random.seed(0)"
   ]
  },
  {
   "cell_type": "markdown",
   "metadata": {
    "id": "KE3YoYbthnyi"
   },
   "source": [
    "# Analisis Data"
   ]
  },
  {
   "cell_type": "markdown",
   "metadata": {
    "id": "I5d74VsMnLtY"
   },
   "source": [
    "## Baca Data"
   ]
  },
  {
   "cell_type": "code",
   "execution_count": 2,
   "metadata": {
    "executionInfo": {
     "elapsed": 40,
     "status": "ok",
     "timestamp": 1621861772853,
     "user": {
      "displayName": "Muhammad Iqbal Shiddiq",
      "photoUrl": "https://lh3.googleusercontent.com/a-/AOh14GiBh5w-MZRdt09mW-hpJDiqcFisM1bzME_DSe2ELA=s64",
      "userId": "07027177044941519057"
     },
     "user_tz": -420
    },
    "id": "SXhiNWFqhoPg"
   },
   "outputs": [],
   "source": [
    "data = pd.read_csv(\"data.csv\")"
   ]
  },
  {
   "cell_type": "markdown",
   "metadata": {
    "id": "oRW12WFmjDY7"
   },
   "source": [
    "## Print bentuk Data"
   ]
  },
  {
   "cell_type": "code",
   "execution_count": 3,
   "metadata": {
    "colab": {
     "base_uri": "https://localhost:8080/",
     "height": 0
    },
    "executionInfo": {
     "elapsed": 40,
     "status": "ok",
     "timestamp": 1621861772855,
     "user": {
      "displayName": "Muhammad Iqbal Shiddiq",
      "photoUrl": "https://lh3.googleusercontent.com/a-/AOh14GiBh5w-MZRdt09mW-hpJDiqcFisM1bzME_DSe2ELA=s64",
      "userId": "07027177044941519057"
     },
     "user_tz": -420
    },
    "id": "DvQ0CRDth-Vy",
    "outputId": "04b3f5fe-a537-4b80-f2f4-6bde7eed0ed0"
   },
   "outputs": [
    {
     "data": {
      "text/html": [
       "<div>\n",
       "<style scoped>\n",
       "    .dataframe tbody tr th:only-of-type {\n",
       "        vertical-align: middle;\n",
       "    }\n",
       "\n",
       "    .dataframe tbody tr th {\n",
       "        vertical-align: top;\n",
       "    }\n",
       "\n",
       "    .dataframe thead th {\n",
       "        text-align: right;\n",
       "    }\n",
       "</style>\n",
       "<table border=\"1\" class=\"dataframe\">\n",
       "  <thead>\n",
       "    <tr style=\"text-align: right;\">\n",
       "      <th></th>\n",
       "      <th>NO</th>\n",
       "      <th>Kecamatan</th>\n",
       "      <th>JenisKelamin</th>\n",
       "      <th>Umur</th>\n",
       "      <th>Tahun</th>\n",
       "    </tr>\n",
       "  </thead>\n",
       "  <tbody>\n",
       "    <tr>\n",
       "      <th>0</th>\n",
       "      <td>1</td>\n",
       "      <td>Tamalanrea</td>\n",
       "      <td>LAKI-LAKI</td>\n",
       "      <td>67</td>\n",
       "      <td>2018</td>\n",
       "    </tr>\n",
       "    <tr>\n",
       "      <th>1</th>\n",
       "      <td>2</td>\n",
       "      <td>Tallo</td>\n",
       "      <td>PEREMPUAN</td>\n",
       "      <td>33</td>\n",
       "      <td>2018</td>\n",
       "    </tr>\n",
       "    <tr>\n",
       "      <th>2</th>\n",
       "      <td>3</td>\n",
       "      <td>Tallo</td>\n",
       "      <td>LAKI-LAKI</td>\n",
       "      <td>51</td>\n",
       "      <td>2018</td>\n",
       "    </tr>\n",
       "    <tr>\n",
       "      <th>3</th>\n",
       "      <td>4</td>\n",
       "      <td>Panakukang</td>\n",
       "      <td>LAKI-LAKI</td>\n",
       "      <td>42</td>\n",
       "      <td>2018</td>\n",
       "    </tr>\n",
       "    <tr>\n",
       "      <th>4</th>\n",
       "      <td>5</td>\n",
       "      <td>Tallo</td>\n",
       "      <td>PEREMPUAN</td>\n",
       "      <td>61</td>\n",
       "      <td>2018</td>\n",
       "    </tr>\n",
       "  </tbody>\n",
       "</table>\n",
       "</div>"
      ],
      "text/plain": [
       "   NO   Kecamatan JenisKelamin  Umur  Tahun\n",
       "0   1  Tamalanrea    LAKI-LAKI    67   2018\n",
       "1   2       Tallo    PEREMPUAN    33   2018\n",
       "2   3       Tallo    LAKI-LAKI    51   2018\n",
       "3   4  Panakukang    LAKI-LAKI    42   2018\n",
       "4   5       Tallo    PEREMPUAN    61   2018"
      ]
     },
     "execution_count": 3,
     "metadata": {},
     "output_type": "execute_result"
    }
   ],
   "source": [
    "data.head()"
   ]
  },
  {
   "cell_type": "markdown",
   "metadata": {
    "id": "FjTkbgCfoe2k"
   },
   "source": [
    "Cek Ukuran Data"
   ]
  },
  {
   "cell_type": "code",
   "execution_count": 4,
   "metadata": {
    "colab": {
     "base_uri": "https://localhost:8080/"
    },
    "executionInfo": {
     "elapsed": 38,
     "status": "ok",
     "timestamp": 1621861772856,
     "user": {
      "displayName": "Muhammad Iqbal Shiddiq",
      "photoUrl": "https://lh3.googleusercontent.com/a-/AOh14GiBh5w-MZRdt09mW-hpJDiqcFisM1bzME_DSe2ELA=s64",
      "userId": "07027177044941519057"
     },
     "user_tz": -420
    },
    "id": "S07aHPTjoPRQ",
    "outputId": "5688269d-b4d3-419f-cf05-f6922d159fdd"
   },
   "outputs": [
    {
     "data": {
      "text/plain": [
       "(998, 5)"
      ]
     },
     "execution_count": 4,
     "metadata": {},
     "output_type": "execute_result"
    }
   ],
   "source": [
    "data.shape"
   ]
  },
  {
   "cell_type": "markdown",
   "metadata": {
    "id": "ilBnoAIJod71"
   },
   "source": [
    "Dari hasil tersebut dapat diperoleh bahwa data memiliki 7 atribut dan 998 baris data"
   ]
  },
  {
   "cell_type": "markdown",
   "metadata": {
    "id": "swmWOPBrnkyd"
   },
   "source": [
    "## Cek Missing Value"
   ]
  },
  {
   "cell_type": "code",
   "execution_count": 5,
   "metadata": {
    "colab": {
     "base_uri": "https://localhost:8080/"
    },
    "executionInfo": {
     "elapsed": 38,
     "status": "ok",
     "timestamp": 1621861772858,
     "user": {
      "displayName": "Muhammad Iqbal Shiddiq",
      "photoUrl": "https://lh3.googleusercontent.com/a-/AOh14GiBh5w-MZRdt09mW-hpJDiqcFisM1bzME_DSe2ELA=s64",
      "userId": "07027177044941519057"
     },
     "user_tz": -420
    },
    "id": "mGn2yEJnnmKG",
    "outputId": "05ab81a6-6a53-4a05-b9c1-a31fb7bfb586"
   },
   "outputs": [
    {
     "data": {
      "text/plain": [
       "0"
      ]
     },
     "execution_count": 5,
     "metadata": {},
     "output_type": "execute_result"
    }
   ],
   "source": [
    "data.isna().sum().sum()"
   ]
  },
  {
   "cell_type": "markdown",
   "metadata": {
    "id": "LIQG5wjPn7Un"
   },
   "source": [
    "Dapat dilihat dari hasil di atas, tidak ditemukan missing value pada dataset tersebut"
   ]
  },
  {
   "cell_type": "markdown",
   "metadata": {
    "id": "D7dzlWMbnVXw"
   },
   "source": [
    "## Analisis Unique Value per atribut"
   ]
  },
  {
   "cell_type": "markdown",
   "metadata": {
    "id": "wyV0ymMtq4qr"
   },
   "source": [
    "Menghitung jumlah unique value hanya dilakukan terhadap atribut **kategorik** (Umur tidak perlu)"
   ]
  },
  {
   "cell_type": "code",
   "execution_count": 6,
   "metadata": {
    "colab": {
     "base_uri": "https://localhost:8080/"
    },
    "executionInfo": {
     "elapsed": 37,
     "status": "ok",
     "timestamp": 1621861772860,
     "user": {
      "displayName": "Muhammad Iqbal Shiddiq",
      "photoUrl": "https://lh3.googleusercontent.com/a-/AOh14GiBh5w-MZRdt09mW-hpJDiqcFisM1bzME_DSe2ELA=s64",
      "userId": "07027177044941519057"
     },
     "user_tz": -420
    },
    "id": "4PCwwcp8nbi7",
    "outputId": "f1fce30c-d180-41f2-819a-db4c853738e7"
   },
   "outputs": [
    {
     "name": "stdout",
     "output_type": "stream",
     "text": [
      "Jumlah Unique value atribut Kecamatan :  16\n",
      "Jumlah Unique value atribut Jenis Kelamin :  2\n",
      "Jumlah Unique value atribut Tahun :  3\n"
     ]
    }
   ],
   "source": [
    "print(\"Jumlah Unique value atribut Kecamatan : \", data.Kecamatan.nunique())\n",
    "print(\"Jumlah Unique value atribut Jenis Kelamin : \", data.JenisKelamin.nunique())\n",
    "print(\"Jumlah Unique value atribut Tahun : \", data.Tahun.nunique())"
   ]
  },
  {
   "cell_type": "markdown",
   "metadata": {
    "id": "GwgwcaeVs2Qu"
   },
   "source": [
    "### Karena terjadi perbedaan jumlah unique value dari atribut **Kecamatan** dan **jumlah kecematan Kecamatan di kota makassar** ada kemungkinan terdapat perbedaan"
   ]
  },
  {
   "cell_type": "code",
   "execution_count": 7,
   "metadata": {},
   "outputs": [
    {
     "data": {
      "text/plain": [
       "Kecamatan\n",
       "Biringkanaya      83\n",
       "Bontoala          72\n",
       "Makassar          87\n",
       "Mamajang          25\n",
       "Manggala         113\n",
       "Mariso            30\n",
       "Panakukang       136\n",
       "Rappocini        100\n",
       "Tallo            104\n",
       "Tamalanrea        66\n",
       "Tamalate          97\n",
       "Ujung Pandang     17\n",
       "Ujung Tanah       47\n",
       "Ujung pandang      3\n",
       "Wajo              17\n",
       "tallo              1\n",
       "Name: NO, dtype: int64"
      ]
     },
     "execution_count": 7,
     "metadata": {},
     "output_type": "execute_result"
    }
   ],
   "source": [
    "data.groupby('Kecamatan')['NO'].nunique()"
   ]
  },
  {
   "cell_type": "markdown",
   "metadata": {},
   "source": [
    "Dapat dilihat di atas perbedaan tadi terjadi akibat perbedaan penulisan **Ujung pandang** dengan **Ujung Pandang** dan **tallo** dengan **Tallo**. Untuk itu kita perlu menyamakannya terlebih dahulu."
   ]
  },
  {
   "cell_type": "code",
   "execution_count": 8,
   "metadata": {
    "executionInfo": {
     "elapsed": 45,
     "status": "ok",
     "timestamp": 1621861773455,
     "user": {
      "displayName": "Muhammad Iqbal Shiddiq",
      "photoUrl": "https://lh3.googleusercontent.com/a-/AOh14GiBh5w-MZRdt09mW-hpJDiqcFisM1bzME_DSe2ELA=s64",
      "userId": "07027177044941519057"
     },
     "user_tz": -420
    },
    "id": "JHkpizsiuHfq"
   },
   "outputs": [],
   "source": [
    "data[\"Kecamatan\"] = np.where(data[\"Kecamatan\"] == \"Ujung pandang\", \"Ujung Pandang\", data[\"Kecamatan\"])\n",
    "data[\"Kecamatan\"] = np.where(data[\"Kecamatan\"] == \"tallo\", \"Tallo\", data[\"Kecamatan\"])"
   ]
  },
  {
   "cell_type": "code",
   "execution_count": 9,
   "metadata": {
    "colab": {
     "base_uri": "https://localhost:8080/"
    },
    "executionInfo": {
     "elapsed": 45,
     "status": "ok",
     "timestamp": 1621861773456,
     "user": {
      "displayName": "Muhammad Iqbal Shiddiq",
      "photoUrl": "https://lh3.googleusercontent.com/a-/AOh14GiBh5w-MZRdt09mW-hpJDiqcFisM1bzME_DSe2ELA=s64",
      "userId": "07027177044941519057"
     },
     "user_tz": -420
    },
    "id": "NBFFerDWvYhf",
    "outputId": "fb5daed2-a2de-40dc-a3e9-dd568da3ff16"
   },
   "outputs": [
    {
     "name": "stdout",
     "output_type": "stream",
     "text": [
      "Jumlah Unique value atribut Kecamatan:  14\n"
     ]
    }
   ],
   "source": [
    "print(\"Jumlah Unique value atribut Kecamatan: \", data.Kecamatan.nunique())"
   ]
  },
  {
   "cell_type": "markdown",
   "metadata": {
    "id": "M-eEqphcvtxi"
   },
   "source": [
    "Dapat dilihat diatas, atribut **kecamatan** sudah sama dengan jumlah kecematan di makassar"
   ]
  },
  {
   "cell_type": "markdown",
   "metadata": {
    "id": "yJggfrJNjGbb"
   },
   "source": [
    "## Menghapus Kolom"
   ]
  },
  {
   "cell_type": "code",
   "execution_count": 10,
   "metadata": {
    "executionInfo": {
     "elapsed": 45,
     "status": "ok",
     "timestamp": 1621861773457,
     "user": {
      "displayName": "Muhammad Iqbal Shiddiq",
      "photoUrl": "https://lh3.googleusercontent.com/a-/AOh14GiBh5w-MZRdt09mW-hpJDiqcFisM1bzME_DSe2ELA=s64",
      "userId": "07027177044941519057"
     },
     "user_tz": -420
    },
    "id": "7E5UXmShjIjV"
   },
   "outputs": [],
   "source": [
    "data.drop(columns=['NO'], inplace=True)\n",
    "data.rename(columns={'JenisKelamin':'JK'}, inplace=True)"
   ]
  },
  {
   "cell_type": "code",
   "execution_count": 11,
   "metadata": {},
   "outputs": [
    {
     "data": {
      "text/html": [
       "<div>\n",
       "<style scoped>\n",
       "    .dataframe tbody tr th:only-of-type {\n",
       "        vertical-align: middle;\n",
       "    }\n",
       "\n",
       "    .dataframe tbody tr th {\n",
       "        vertical-align: top;\n",
       "    }\n",
       "\n",
       "    .dataframe thead th {\n",
       "        text-align: right;\n",
       "    }\n",
       "</style>\n",
       "<table border=\"1\" class=\"dataframe\">\n",
       "  <thead>\n",
       "    <tr style=\"text-align: right;\">\n",
       "      <th></th>\n",
       "      <th>Kecamatan</th>\n",
       "      <th>JK</th>\n",
       "      <th>Umur</th>\n",
       "      <th>Tahun</th>\n",
       "    </tr>\n",
       "  </thead>\n",
       "  <tbody>\n",
       "    <tr>\n",
       "      <th>0</th>\n",
       "      <td>Tamalanrea</td>\n",
       "      <td>LAKI-LAKI</td>\n",
       "      <td>67</td>\n",
       "      <td>2018</td>\n",
       "    </tr>\n",
       "    <tr>\n",
       "      <th>1</th>\n",
       "      <td>Tallo</td>\n",
       "      <td>PEREMPUAN</td>\n",
       "      <td>33</td>\n",
       "      <td>2018</td>\n",
       "    </tr>\n",
       "    <tr>\n",
       "      <th>2</th>\n",
       "      <td>Tallo</td>\n",
       "      <td>LAKI-LAKI</td>\n",
       "      <td>51</td>\n",
       "      <td>2018</td>\n",
       "    </tr>\n",
       "    <tr>\n",
       "      <th>3</th>\n",
       "      <td>Panakukang</td>\n",
       "      <td>LAKI-LAKI</td>\n",
       "      <td>42</td>\n",
       "      <td>2018</td>\n",
       "    </tr>\n",
       "    <tr>\n",
       "      <th>4</th>\n",
       "      <td>Tallo</td>\n",
       "      <td>PEREMPUAN</td>\n",
       "      <td>61</td>\n",
       "      <td>2018</td>\n",
       "    </tr>\n",
       "  </tbody>\n",
       "</table>\n",
       "</div>"
      ],
      "text/plain": [
       "    Kecamatan         JK  Umur  Tahun\n",
       "0  Tamalanrea  LAKI-LAKI    67   2018\n",
       "1       Tallo  PEREMPUAN    33   2018\n",
       "2       Tallo  LAKI-LAKI    51   2018\n",
       "3  Panakukang  LAKI-LAKI    42   2018\n",
       "4       Tallo  PEREMPUAN    61   2018"
      ]
     },
     "execution_count": 11,
     "metadata": {},
     "output_type": "execute_result"
    }
   ],
   "source": [
    "data.head()"
   ]
  },
  {
   "cell_type": "markdown",
   "metadata": {
    "id": "0dZI2gHKxe2S"
   },
   "source": [
    "Data yang akan dipakai:"
   ]
  },
  {
   "cell_type": "markdown",
   "metadata": {
    "id": "VBo59S3wxodp"
   },
   "source": [
    "## Aggregasi"
   ]
  },
  {
   "cell_type": "code",
   "execution_count": 12,
   "metadata": {
    "executionInfo": {
     "elapsed": 44,
     "status": "ok",
     "timestamp": 1621861773459,
     "user": {
      "displayName": "Muhammad Iqbal Shiddiq",
      "photoUrl": "https://lh3.googleusercontent.com/a-/AOh14GiBh5w-MZRdt09mW-hpJDiqcFisM1bzME_DSe2ELA=s64",
      "userId": "07027177044941519057"
     },
     "user_tz": -420
    },
    "id": "gVy-206QCmsa"
   },
   "outputs": [],
   "source": [
    "data_group = data.groupby(['Kecamatan', 'Tahun', 'JK']).aggregate({\n",
    "    'JK': 'count',\n",
    "    'Umur': 'mean'\n",
    "})"
   ]
  },
  {
   "cell_type": "code",
   "execution_count": 41,
   "metadata": {},
   "outputs": [
    {
     "data": {
      "text/html": [
       "<div>\n",
       "<style scoped>\n",
       "    .dataframe tbody tr th:only-of-type {\n",
       "        vertical-align: middle;\n",
       "    }\n",
       "\n",
       "    .dataframe tbody tr th {\n",
       "        vertical-align: top;\n",
       "    }\n",
       "\n",
       "    .dataframe thead th {\n",
       "        text-align: right;\n",
       "    }\n",
       "</style>\n",
       "<table border=\"1\" class=\"dataframe\">\n",
       "  <thead>\n",
       "    <tr style=\"text-align: right;\">\n",
       "      <th></th>\n",
       "      <th>Kecamatan</th>\n",
       "      <th>Tahun</th>\n",
       "      <th>JK</th>\n",
       "      <th>Jumlah</th>\n",
       "      <th>Umur</th>\n",
       "    </tr>\n",
       "  </thead>\n",
       "  <tbody>\n",
       "    <tr>\n",
       "      <th>0</th>\n",
       "      <td>Biringkanaya</td>\n",
       "      <td>2018</td>\n",
       "      <td>LAKI-LAKI</td>\n",
       "      <td>12</td>\n",
       "      <td>50.166667</td>\n",
       "    </tr>\n",
       "    <tr>\n",
       "      <th>1</th>\n",
       "      <td>Biringkanaya</td>\n",
       "      <td>2018</td>\n",
       "      <td>PEREMPUAN</td>\n",
       "      <td>9</td>\n",
       "      <td>38.111111</td>\n",
       "    </tr>\n",
       "    <tr>\n",
       "      <th>2</th>\n",
       "      <td>Biringkanaya</td>\n",
       "      <td>2019</td>\n",
       "      <td>LAKI-LAKI</td>\n",
       "      <td>23</td>\n",
       "      <td>47.739130</td>\n",
       "    </tr>\n",
       "    <tr>\n",
       "      <th>3</th>\n",
       "      <td>Biringkanaya</td>\n",
       "      <td>2019</td>\n",
       "      <td>PEREMPUAN</td>\n",
       "      <td>17</td>\n",
       "      <td>36.941176</td>\n",
       "    </tr>\n",
       "    <tr>\n",
       "      <th>4</th>\n",
       "      <td>Biringkanaya</td>\n",
       "      <td>2020</td>\n",
       "      <td>LAKI-LAKI</td>\n",
       "      <td>16</td>\n",
       "      <td>38.875000</td>\n",
       "    </tr>\n",
       "    <tr>\n",
       "      <th>...</th>\n",
       "      <td>...</td>\n",
       "      <td>...</td>\n",
       "      <td>...</td>\n",
       "      <td>...</td>\n",
       "      <td>...</td>\n",
       "    </tr>\n",
       "    <tr>\n",
       "      <th>78</th>\n",
       "      <td>Wajo</td>\n",
       "      <td>2018</td>\n",
       "      <td>LAKI-LAKI</td>\n",
       "      <td>3</td>\n",
       "      <td>39.000000</td>\n",
       "    </tr>\n",
       "    <tr>\n",
       "      <th>79</th>\n",
       "      <td>Wajo</td>\n",
       "      <td>2019</td>\n",
       "      <td>LAKI-LAKI</td>\n",
       "      <td>4</td>\n",
       "      <td>34.000000</td>\n",
       "    </tr>\n",
       "    <tr>\n",
       "      <th>80</th>\n",
       "      <td>Wajo</td>\n",
       "      <td>2019</td>\n",
       "      <td>PEREMPUAN</td>\n",
       "      <td>5</td>\n",
       "      <td>50.400000</td>\n",
       "    </tr>\n",
       "    <tr>\n",
       "      <th>81</th>\n",
       "      <td>Wajo</td>\n",
       "      <td>2020</td>\n",
       "      <td>LAKI-LAKI</td>\n",
       "      <td>4</td>\n",
       "      <td>34.750000</td>\n",
       "    </tr>\n",
       "    <tr>\n",
       "      <th>82</th>\n",
       "      <td>Wajo</td>\n",
       "      <td>2020</td>\n",
       "      <td>PEREMPUAN</td>\n",
       "      <td>1</td>\n",
       "      <td>24.000000</td>\n",
       "    </tr>\n",
       "  </tbody>\n",
       "</table>\n",
       "<p>83 rows × 5 columns</p>\n",
       "</div>"
      ],
      "text/plain": [
       "       Kecamatan  Tahun         JK  Jumlah       Umur\n",
       "0   Biringkanaya   2018  LAKI-LAKI      12  50.166667\n",
       "1   Biringkanaya   2018  PEREMPUAN       9  38.111111\n",
       "2   Biringkanaya   2019  LAKI-LAKI      23  47.739130\n",
       "3   Biringkanaya   2019  PEREMPUAN      17  36.941176\n",
       "4   Biringkanaya   2020  LAKI-LAKI      16  38.875000\n",
       "..           ...    ...        ...     ...        ...\n",
       "78          Wajo   2018  LAKI-LAKI       3  39.000000\n",
       "79          Wajo   2019  LAKI-LAKI       4  34.000000\n",
       "80          Wajo   2019  PEREMPUAN       5  50.400000\n",
       "81          Wajo   2020  LAKI-LAKI       4  34.750000\n",
       "82          Wajo   2020  PEREMPUAN       1  24.000000\n",
       "\n",
       "[83 rows x 5 columns]"
      ]
     },
     "execution_count": 41,
     "metadata": {},
     "output_type": "execute_result"
    }
   ],
   "source": [
    "data_group"
   ]
  },
  {
   "cell_type": "code",
   "execution_count": 14,
   "metadata": {
    "executionInfo": {
     "elapsed": 44,
     "status": "ok",
     "timestamp": 1621861773460,
     "user": {
      "displayName": "Muhammad Iqbal Shiddiq",
      "photoUrl": "https://lh3.googleusercontent.com/a-/AOh14GiBh5w-MZRdt09mW-hpJDiqcFisM1bzME_DSe2ELA=s64",
      "userId": "07027177044941519057"
     },
     "user_tz": -420
    },
    "id": "hBfxssUrAdhS"
   },
   "outputs": [],
   "source": [
    "data_group.columns = data_group.columns.map('_'.join)\n",
    "data_group = data_group.reset_index()\n",
    "data_group.rename(columns={'J_K':'Jumlah', 'U_m_u_r':'Umur'}, inplace=True)"
   ]
  },
  {
   "cell_type": "code",
   "execution_count": 15,
   "metadata": {
    "colab": {
     "base_uri": "https://localhost:8080/",
     "height": 0
    },
    "executionInfo": {
     "elapsed": 45,
     "status": "ok",
     "timestamp": 1621861773461,
     "user": {
      "displayName": "Muhammad Iqbal Shiddiq",
      "photoUrl": "https://lh3.googleusercontent.com/a-/AOh14GiBh5w-MZRdt09mW-hpJDiqcFisM1bzME_DSe2ELA=s64",
      "userId": "07027177044941519057"
     },
     "user_tz": -420
    },
    "id": "1XWMLoVnAISN",
    "outputId": "11cf14c9-8998-4ace-8a90-208c54e2d00a"
   },
   "outputs": [
    {
     "data": {
      "text/html": [
       "<div>\n",
       "<style scoped>\n",
       "    .dataframe tbody tr th:only-of-type {\n",
       "        vertical-align: middle;\n",
       "    }\n",
       "\n",
       "    .dataframe tbody tr th {\n",
       "        vertical-align: top;\n",
       "    }\n",
       "\n",
       "    .dataframe thead th {\n",
       "        text-align: right;\n",
       "    }\n",
       "</style>\n",
       "<table border=\"1\" class=\"dataframe\">\n",
       "  <thead>\n",
       "    <tr style=\"text-align: right;\">\n",
       "      <th></th>\n",
       "      <th>Kecamatan</th>\n",
       "      <th>Tahun</th>\n",
       "      <th>JK</th>\n",
       "      <th>Jumlah</th>\n",
       "      <th>Umur</th>\n",
       "    </tr>\n",
       "  </thead>\n",
       "  <tbody>\n",
       "    <tr>\n",
       "      <th>0</th>\n",
       "      <td>Biringkanaya</td>\n",
       "      <td>2018</td>\n",
       "      <td>LAKI-LAKI</td>\n",
       "      <td>12</td>\n",
       "      <td>50.166667</td>\n",
       "    </tr>\n",
       "    <tr>\n",
       "      <th>1</th>\n",
       "      <td>Biringkanaya</td>\n",
       "      <td>2018</td>\n",
       "      <td>PEREMPUAN</td>\n",
       "      <td>9</td>\n",
       "      <td>38.111111</td>\n",
       "    </tr>\n",
       "    <tr>\n",
       "      <th>2</th>\n",
       "      <td>Biringkanaya</td>\n",
       "      <td>2019</td>\n",
       "      <td>LAKI-LAKI</td>\n",
       "      <td>23</td>\n",
       "      <td>47.739130</td>\n",
       "    </tr>\n",
       "    <tr>\n",
       "      <th>3</th>\n",
       "      <td>Biringkanaya</td>\n",
       "      <td>2019</td>\n",
       "      <td>PEREMPUAN</td>\n",
       "      <td>17</td>\n",
       "      <td>36.941176</td>\n",
       "    </tr>\n",
       "    <tr>\n",
       "      <th>4</th>\n",
       "      <td>Biringkanaya</td>\n",
       "      <td>2020</td>\n",
       "      <td>LAKI-LAKI</td>\n",
       "      <td>16</td>\n",
       "      <td>38.875000</td>\n",
       "    </tr>\n",
       "  </tbody>\n",
       "</table>\n",
       "</div>"
      ],
      "text/plain": [
       "      Kecamatan  Tahun         JK  Jumlah       Umur\n",
       "0  Biringkanaya   2018  LAKI-LAKI      12  50.166667\n",
       "1  Biringkanaya   2018  PEREMPUAN       9  38.111111\n",
       "2  Biringkanaya   2019  LAKI-LAKI      23  47.739130\n",
       "3  Biringkanaya   2019  PEREMPUAN      17  36.941176\n",
       "4  Biringkanaya   2020  LAKI-LAKI      16  38.875000"
      ]
     },
     "execution_count": 15,
     "metadata": {},
     "output_type": "execute_result"
    }
   ],
   "source": [
    "data_group.head()"
   ]
  },
  {
   "cell_type": "markdown",
   "metadata": {
    "id": "kGyBZVvvI7oN"
   },
   "source": [
    "Buat dataframe baru untuk transformasi"
   ]
  },
  {
   "cell_type": "code",
   "execution_count": 16,
   "metadata": {
    "executionInfo": {
     "elapsed": 44,
     "status": "ok",
     "timestamp": 1621861773462,
     "user": {
      "displayName": "Muhammad Iqbal Shiddiq",
      "photoUrl": "https://lh3.googleusercontent.com/a-/AOh14GiBh5w-MZRdt09mW-hpJDiqcFisM1bzME_DSe2ELA=s64",
      "userId": "07027177044941519057"
     },
     "user_tz": -420
    },
    "id": "5h_YRUBMyIAC"
   },
   "outputs": [],
   "source": [
    "data_model = pd.DataFrame(columns=['Kecamatan', 'Jumlah Laki-Laki 2018', 'Jumlah Perempuan 2018', 'Rata-Rata Usia Laki-Laki 2018', 'Rata-Rata Usia Perempuan 2018',\n",
    "                                   'Jumlah Laki-Laki 2019', 'Jumlah Perempuan 2019', 'Rata-Rata Usia Laki-Laki 2019', 'Rata-Rata Usia Perempuan 2019',\n",
    "                                   'Jumlah Laki-Laki 2020', 'Jumlah Perempuan 2020', 'Rata-Rata Usia Laki-Laki 2020', 'Rata-Rata Usia Perempuan 2020'])\n",
    "data_model['Kecamatan'] = data_group['Kecamatan'].unique()"
   ]
  },
  {
   "cell_type": "markdown",
   "metadata": {
    "id": "b7YkVMIrJnNp"
   },
   "source": [
    "Loop untuk transformasi dari **data_group** ke **data_model**"
   ]
  },
  {
   "cell_type": "code",
   "execution_count": 17,
   "metadata": {
    "executionInfo": {
     "elapsed": 49,
     "status": "ok",
     "timestamp": 1621861773467,
     "user": {
      "displayName": "Muhammad Iqbal Shiddiq",
      "photoUrl": "https://lh3.googleusercontent.com/a-/AOh14GiBh5w-MZRdt09mW-hpJDiqcFisM1bzME_DSe2ELA=s64",
      "userId": "07027177044941519057"
     },
     "user_tz": -420
    },
    "id": "If9SUfgYJss1"
   },
   "outputs": [],
   "source": [
    "for i in range(len(data_model)):\n",
    "  kec = data_model['Kecamatan'][i]\n",
    "  # 2018\n",
    "  buff = data_group['Jumlah'].loc[(data_group['Kecamatan'] == kec) & \n",
    "                                  (data_group['Tahun'] == 2018) & \n",
    "                                  (data_group['JK'] == 'LAKI-LAKI')]\n",
    "  data_model['Jumlah Laki-Laki 2018'][i] = buff.values[0] if (len(buff)>0) else 0\n",
    "  buff = data_group['Jumlah'].loc[(data_group['Kecamatan'] == kec) & \n",
    "                                  (data_group['Tahun'] == 2018) & \n",
    "                                  (data_group['JK'] == 'PEREMPUAN')]\n",
    "  data_model['Jumlah Perempuan 2018'][i] = buff.values[0] if (len(buff)>0) else 0\n",
    "  buff = data_group['Umur'].loc[(data_group['Kecamatan'] == kec) & \n",
    "                                  (data_group['Tahun'] == 2018) & \n",
    "                                  (data_group['JK'] == 'LAKI-LAKI')]\n",
    "  data_model['Rata-Rata Usia Laki-Laki 2018'][i] = buff.values[0] if (len(buff)>0) else 0\n",
    "  buff = data_group['Umur'].loc[(data_group['Kecamatan'] == kec) & \n",
    "                                  (data_group['Tahun'] == 2018) & \n",
    "                                  (data_group['JK'] == 'PEREMPUAN')]\n",
    "  data_model['Rata-Rata Usia Perempuan 2018'][i] = buff.values[0] if (len(buff)>0) else 0\n",
    "\n",
    "  # 2019\n",
    "  buff = data_group['Jumlah'].loc[(data_group['Kecamatan'] == kec) & \n",
    "                                  (data_group['Tahun'] == 2019) & \n",
    "                                  (data_group['JK'] == 'LAKI-LAKI')]\n",
    "  data_model['Jumlah Laki-Laki 2019'][i] = buff.values[0] if (len(buff)>0) else 0\n",
    "  buff = data_group['Jumlah'].loc[(data_group['Kecamatan'] == kec) & \n",
    "                                  (data_group['Tahun'] == 2019) & \n",
    "                                  (data_group['JK'] == 'PEREMPUAN')]\n",
    "  data_model['Jumlah Perempuan 2019'][i] = buff.values[0] if (len(buff)>0) else 0\n",
    "  buff = data_group['Umur'].loc[(data_group['Kecamatan'] == kec) & \n",
    "                                  (data_group['Tahun'] == 2019) & \n",
    "                                  (data_group['JK'] == 'LAKI-LAKI')]\n",
    "  data_model['Rata-Rata Usia Laki-Laki 2019'][i] = buff.values[0] if (len(buff)>0) else 0\n",
    "  buff = data_group['Umur'].loc[(data_group['Kecamatan'] == kec) & \n",
    "                                  (data_group['Tahun'] == 2019) & \n",
    "                                  (data_group['JK'] == 'PEREMPUAN')]\n",
    "  data_model['Rata-Rata Usia Perempuan 2019'][i] = buff.values[0] if (len(buff)>0) else 0\n",
    "\n",
    "  # 2020\n",
    "  buff = data_group['Jumlah'].loc[(data_group['Kecamatan'] == kec) & \n",
    "                                  (data_group['Tahun'] == 2020) & \n",
    "                                  (data_group['JK'] == 'LAKI-LAKI')]\n",
    "  data_model['Jumlah Laki-Laki 2020'][i] = buff.values[0] if (len(buff)>0) else 0\n",
    "  buff = data_group['Jumlah'].loc[(data_group['Kecamatan'] == kec) & \n",
    "                                  (data_group['Tahun'] == 2020) & \n",
    "                                  (data_group['JK'] == 'PEREMPUAN')]\n",
    "  data_model['Jumlah Perempuan 2020'][i] = buff.values[0] if (len(buff)>0) else 0\n",
    "  buff = data_group['Umur'].loc[(data_group['Kecamatan'] == kec) & \n",
    "                                  (data_group['Tahun'] == 2020) & \n",
    "                                  (data_group['JK'] == 'LAKI-LAKI')]\n",
    "  data_model['Rata-Rata Usia Laki-Laki 2020'][i] = buff.values[0] if (len(buff)>0) else 0\n",
    "  buff = data_group['Umur'].loc[(data_group['Kecamatan'] == kec) & \n",
    "                                  (data_group['Tahun'] == 2020) & \n",
    "                                  (data_group['JK'] == 'PEREMPUAN')]\n",
    "  data_model['Rata-Rata Usia Perempuan 2020'][i] = buff.values[0] if (len(buff)>0) else 0"
   ]
  },
  {
   "cell_type": "code",
   "execution_count": 18,
   "metadata": {
    "colab": {
     "base_uri": "https://localhost:8080/",
     "height": 0
    },
    "executionInfo": {
     "elapsed": 49,
     "status": "ok",
     "timestamp": 1621861773468,
     "user": {
      "displayName": "Muhammad Iqbal Shiddiq",
      "photoUrl": "https://lh3.googleusercontent.com/a-/AOh14GiBh5w-MZRdt09mW-hpJDiqcFisM1bzME_DSe2ELA=s64",
      "userId": "07027177044941519057"
     },
     "user_tz": -420
    },
    "id": "-t0PkFHrIALq",
    "outputId": "df927f9e-a858-4d3d-a1dc-09e31638278e"
   },
   "outputs": [
    {
     "data": {
      "text/html": [
       "<div>\n",
       "<style scoped>\n",
       "    .dataframe tbody tr th:only-of-type {\n",
       "        vertical-align: middle;\n",
       "    }\n",
       "\n",
       "    .dataframe tbody tr th {\n",
       "        vertical-align: top;\n",
       "    }\n",
       "\n",
       "    .dataframe thead th {\n",
       "        text-align: right;\n",
       "    }\n",
       "</style>\n",
       "<table border=\"1\" class=\"dataframe\">\n",
       "  <thead>\n",
       "    <tr style=\"text-align: right;\">\n",
       "      <th></th>\n",
       "      <th>Kecamatan</th>\n",
       "      <th>Jumlah Laki-Laki 2018</th>\n",
       "      <th>Jumlah Perempuan 2018</th>\n",
       "      <th>Rata-Rata Usia Laki-Laki 2018</th>\n",
       "      <th>Rata-Rata Usia Perempuan 2018</th>\n",
       "      <th>Jumlah Laki-Laki 2019</th>\n",
       "      <th>Jumlah Perempuan 2019</th>\n",
       "      <th>Rata-Rata Usia Laki-Laki 2019</th>\n",
       "      <th>Rata-Rata Usia Perempuan 2019</th>\n",
       "      <th>Jumlah Laki-Laki 2020</th>\n",
       "      <th>Jumlah Perempuan 2020</th>\n",
       "      <th>Rata-Rata Usia Laki-Laki 2020</th>\n",
       "      <th>Rata-Rata Usia Perempuan 2020</th>\n",
       "    </tr>\n",
       "  </thead>\n",
       "  <tbody>\n",
       "    <tr>\n",
       "      <th>0</th>\n",
       "      <td>Biringkanaya</td>\n",
       "      <td>12</td>\n",
       "      <td>9</td>\n",
       "      <td>50.166667</td>\n",
       "      <td>38.111111</td>\n",
       "      <td>23</td>\n",
       "      <td>17</td>\n",
       "      <td>47.73913</td>\n",
       "      <td>36.941176</td>\n",
       "      <td>16</td>\n",
       "      <td>6</td>\n",
       "      <td>38.875</td>\n",
       "      <td>35.833333</td>\n",
       "    </tr>\n",
       "    <tr>\n",
       "      <th>1</th>\n",
       "      <td>Bontoala</td>\n",
       "      <td>10</td>\n",
       "      <td>13</td>\n",
       "      <td>42.5</td>\n",
       "      <td>42.230769</td>\n",
       "      <td>22</td>\n",
       "      <td>14</td>\n",
       "      <td>42.272727</td>\n",
       "      <td>41.642857</td>\n",
       "      <td>8</td>\n",
       "      <td>5</td>\n",
       "      <td>39.5</td>\n",
       "      <td>30.0</td>\n",
       "    </tr>\n",
       "    <tr>\n",
       "      <th>2</th>\n",
       "      <td>Makassar</td>\n",
       "      <td>21</td>\n",
       "      <td>10</td>\n",
       "      <td>38.809524</td>\n",
       "      <td>44.4</td>\n",
       "      <td>25</td>\n",
       "      <td>17</td>\n",
       "      <td>41.36</td>\n",
       "      <td>38.058824</td>\n",
       "      <td>8</td>\n",
       "      <td>6</td>\n",
       "      <td>47.375</td>\n",
       "      <td>40.666667</td>\n",
       "    </tr>\n",
       "    <tr>\n",
       "      <th>3</th>\n",
       "      <td>Mamajang</td>\n",
       "      <td>2</td>\n",
       "      <td>7</td>\n",
       "      <td>23.0</td>\n",
       "      <td>36.0</td>\n",
       "      <td>7</td>\n",
       "      <td>1</td>\n",
       "      <td>44.0</td>\n",
       "      <td>65.0</td>\n",
       "      <td>3</td>\n",
       "      <td>5</td>\n",
       "      <td>39.333333</td>\n",
       "      <td>33.6</td>\n",
       "    </tr>\n",
       "    <tr>\n",
       "      <th>4</th>\n",
       "      <td>Manggala</td>\n",
       "      <td>33</td>\n",
       "      <td>15</td>\n",
       "      <td>38.787879</td>\n",
       "      <td>29.933333</td>\n",
       "      <td>27</td>\n",
       "      <td>17</td>\n",
       "      <td>41.925926</td>\n",
       "      <td>29.411765</td>\n",
       "      <td>12</td>\n",
       "      <td>9</td>\n",
       "      <td>38.5</td>\n",
       "      <td>45.666667</td>\n",
       "    </tr>\n",
       "    <tr>\n",
       "      <th>5</th>\n",
       "      <td>Mariso</td>\n",
       "      <td>6</td>\n",
       "      <td>3</td>\n",
       "      <td>31.833333</td>\n",
       "      <td>44.666667</td>\n",
       "      <td>4</td>\n",
       "      <td>8</td>\n",
       "      <td>29.5</td>\n",
       "      <td>40.0</td>\n",
       "      <td>6</td>\n",
       "      <td>3</td>\n",
       "      <td>24.5</td>\n",
       "      <td>28.0</td>\n",
       "    </tr>\n",
       "    <tr>\n",
       "      <th>6</th>\n",
       "      <td>Panakukang</td>\n",
       "      <td>27</td>\n",
       "      <td>24</td>\n",
       "      <td>45.814815</td>\n",
       "      <td>40.5</td>\n",
       "      <td>27</td>\n",
       "      <td>21</td>\n",
       "      <td>49.259259</td>\n",
       "      <td>34.142857</td>\n",
       "      <td>23</td>\n",
       "      <td>14</td>\n",
       "      <td>38.73913</td>\n",
       "      <td>38.5</td>\n",
       "    </tr>\n",
       "    <tr>\n",
       "      <th>7</th>\n",
       "      <td>Rappocini</td>\n",
       "      <td>28</td>\n",
       "      <td>15</td>\n",
       "      <td>41.25</td>\n",
       "      <td>40.333333</td>\n",
       "      <td>22</td>\n",
       "      <td>17</td>\n",
       "      <td>37.454545</td>\n",
       "      <td>33.176471</td>\n",
       "      <td>9</td>\n",
       "      <td>9</td>\n",
       "      <td>34.0</td>\n",
       "      <td>37.555556</td>\n",
       "    </tr>\n",
       "    <tr>\n",
       "      <th>8</th>\n",
       "      <td>Tallo</td>\n",
       "      <td>17</td>\n",
       "      <td>20</td>\n",
       "      <td>42.470588</td>\n",
       "      <td>41.85</td>\n",
       "      <td>31</td>\n",
       "      <td>15</td>\n",
       "      <td>41.193548</td>\n",
       "      <td>39.466667</td>\n",
       "      <td>18</td>\n",
       "      <td>4</td>\n",
       "      <td>46.888889</td>\n",
       "      <td>36.75</td>\n",
       "    </tr>\n",
       "    <tr>\n",
       "      <th>9</th>\n",
       "      <td>Tamalanrea</td>\n",
       "      <td>20</td>\n",
       "      <td>8</td>\n",
       "      <td>44.25</td>\n",
       "      <td>38.875</td>\n",
       "      <td>15</td>\n",
       "      <td>8</td>\n",
       "      <td>35.866667</td>\n",
       "      <td>35.125</td>\n",
       "      <td>9</td>\n",
       "      <td>6</td>\n",
       "      <td>40.666667</td>\n",
       "      <td>31.0</td>\n",
       "    </tr>\n",
       "    <tr>\n",
       "      <th>10</th>\n",
       "      <td>Tamalate</td>\n",
       "      <td>22</td>\n",
       "      <td>11</td>\n",
       "      <td>35.363636</td>\n",
       "      <td>35.818182</td>\n",
       "      <td>18</td>\n",
       "      <td>17</td>\n",
       "      <td>42.388889</td>\n",
       "      <td>28.352941</td>\n",
       "      <td>17</td>\n",
       "      <td>12</td>\n",
       "      <td>37.411765</td>\n",
       "      <td>42.25</td>\n",
       "    </tr>\n",
       "    <tr>\n",
       "      <th>11</th>\n",
       "      <td>Ujung Pandang</td>\n",
       "      <td>5</td>\n",
       "      <td>2</td>\n",
       "      <td>43.4</td>\n",
       "      <td>39.5</td>\n",
       "      <td>4</td>\n",
       "      <td>3</td>\n",
       "      <td>39.25</td>\n",
       "      <td>41.333333</td>\n",
       "      <td>3</td>\n",
       "      <td>3</td>\n",
       "      <td>33.0</td>\n",
       "      <td>43.333333</td>\n",
       "    </tr>\n",
       "    <tr>\n",
       "      <th>12</th>\n",
       "      <td>Ujung Tanah</td>\n",
       "      <td>20</td>\n",
       "      <td>5</td>\n",
       "      <td>44.9</td>\n",
       "      <td>31.2</td>\n",
       "      <td>11</td>\n",
       "      <td>4</td>\n",
       "      <td>33.909091</td>\n",
       "      <td>29.5</td>\n",
       "      <td>5</td>\n",
       "      <td>2</td>\n",
       "      <td>46.2</td>\n",
       "      <td>49.0</td>\n",
       "    </tr>\n",
       "    <tr>\n",
       "      <th>13</th>\n",
       "      <td>Wajo</td>\n",
       "      <td>3</td>\n",
       "      <td>0</td>\n",
       "      <td>39.0</td>\n",
       "      <td>0</td>\n",
       "      <td>4</td>\n",
       "      <td>5</td>\n",
       "      <td>34.0</td>\n",
       "      <td>50.4</td>\n",
       "      <td>4</td>\n",
       "      <td>1</td>\n",
       "      <td>34.75</td>\n",
       "      <td>24.0</td>\n",
       "    </tr>\n",
       "  </tbody>\n",
       "</table>\n",
       "</div>"
      ],
      "text/plain": [
       "        Kecamatan Jumlah Laki-Laki 2018 Jumlah Perempuan 2018  \\\n",
       "0    Biringkanaya                    12                     9   \n",
       "1        Bontoala                    10                    13   \n",
       "2        Makassar                    21                    10   \n",
       "3        Mamajang                     2                     7   \n",
       "4        Manggala                    33                    15   \n",
       "5          Mariso                     6                     3   \n",
       "6      Panakukang                    27                    24   \n",
       "7       Rappocini                    28                    15   \n",
       "8           Tallo                    17                    20   \n",
       "9      Tamalanrea                    20                     8   \n",
       "10       Tamalate                    22                    11   \n",
       "11  Ujung Pandang                     5                     2   \n",
       "12    Ujung Tanah                    20                     5   \n",
       "13           Wajo                     3                     0   \n",
       "\n",
       "   Rata-Rata Usia Laki-Laki 2018 Rata-Rata Usia Perempuan 2018  \\\n",
       "0                      50.166667                     38.111111   \n",
       "1                           42.5                     42.230769   \n",
       "2                      38.809524                          44.4   \n",
       "3                           23.0                          36.0   \n",
       "4                      38.787879                     29.933333   \n",
       "5                      31.833333                     44.666667   \n",
       "6                      45.814815                          40.5   \n",
       "7                          41.25                     40.333333   \n",
       "8                      42.470588                         41.85   \n",
       "9                          44.25                        38.875   \n",
       "10                     35.363636                     35.818182   \n",
       "11                          43.4                          39.5   \n",
       "12                          44.9                          31.2   \n",
       "13                          39.0                             0   \n",
       "\n",
       "   Jumlah Laki-Laki 2019 Jumlah Perempuan 2019 Rata-Rata Usia Laki-Laki 2019  \\\n",
       "0                     23                    17                      47.73913   \n",
       "1                     22                    14                     42.272727   \n",
       "2                     25                    17                         41.36   \n",
       "3                      7                     1                          44.0   \n",
       "4                     27                    17                     41.925926   \n",
       "5                      4                     8                          29.5   \n",
       "6                     27                    21                     49.259259   \n",
       "7                     22                    17                     37.454545   \n",
       "8                     31                    15                     41.193548   \n",
       "9                     15                     8                     35.866667   \n",
       "10                    18                    17                     42.388889   \n",
       "11                     4                     3                         39.25   \n",
       "12                    11                     4                     33.909091   \n",
       "13                     4                     5                          34.0   \n",
       "\n",
       "   Rata-Rata Usia Perempuan 2019 Jumlah Laki-Laki 2020 Jumlah Perempuan 2020  \\\n",
       "0                      36.941176                    16                     6   \n",
       "1                      41.642857                     8                     5   \n",
       "2                      38.058824                     8                     6   \n",
       "3                           65.0                     3                     5   \n",
       "4                      29.411765                    12                     9   \n",
       "5                           40.0                     6                     3   \n",
       "6                      34.142857                    23                    14   \n",
       "7                      33.176471                     9                     9   \n",
       "8                      39.466667                    18                     4   \n",
       "9                         35.125                     9                     6   \n",
       "10                     28.352941                    17                    12   \n",
       "11                     41.333333                     3                     3   \n",
       "12                          29.5                     5                     2   \n",
       "13                          50.4                     4                     1   \n",
       "\n",
       "   Rata-Rata Usia Laki-Laki 2020 Rata-Rata Usia Perempuan 2020  \n",
       "0                         38.875                     35.833333  \n",
       "1                           39.5                          30.0  \n",
       "2                         47.375                     40.666667  \n",
       "3                      39.333333                          33.6  \n",
       "4                           38.5                     45.666667  \n",
       "5                           24.5                          28.0  \n",
       "6                       38.73913                          38.5  \n",
       "7                           34.0                     37.555556  \n",
       "8                      46.888889                         36.75  \n",
       "9                      40.666667                          31.0  \n",
       "10                     37.411765                         42.25  \n",
       "11                          33.0                     43.333333  \n",
       "12                          46.2                          49.0  \n",
       "13                         34.75                          24.0  "
      ]
     },
     "execution_count": 18,
     "metadata": {},
     "output_type": "execute_result"
    }
   ],
   "source": [
    "data_model"
   ]
  },
  {
   "cell_type": "markdown",
   "metadata": {
    "id": "2LbyMSXYWV4x"
   },
   "source": [
    "Untuk menambahkan keragaman data dibuat variable baru yaitu Rasio Jenis Kelamin dari setiap tahunnya"
   ]
  },
  {
   "cell_type": "code",
   "execution_count": 19,
   "metadata": {
    "executionInfo": {
     "elapsed": 48,
     "status": "ok",
     "timestamp": 1621861773470,
     "user": {
      "displayName": "Muhammad Iqbal Shiddiq",
      "photoUrl": "https://lh3.googleusercontent.com/a-/AOh14GiBh5w-MZRdt09mW-hpJDiqcFisM1bzME_DSe2ELA=s64",
      "userId": "07027177044941519057"
     },
     "user_tz": -420
    },
    "id": "SaoDbRXhWnv1"
   },
   "outputs": [],
   "source": [
    "data_model['Rasio JK 2018'] = data_model['Jumlah Perempuan 2018']/data_model['Jumlah Laki-Laki 2018']\n",
    "data_model['Rasio JK 2019'] = data_model['Jumlah Perempuan 2019']/data_model['Jumlah Laki-Laki 2019']\n",
    "data_model['Rasio JK 2020'] = data_model['Jumlah Perempuan 2020']/data_model['Jumlah Laki-Laki 2020']"
   ]
  },
  {
   "cell_type": "code",
   "execution_count": 20,
   "metadata": {
    "colab": {
     "base_uri": "https://localhost:8080/",
     "height": 0
    },
    "executionInfo": {
     "elapsed": 48,
     "status": "ok",
     "timestamp": 1621861773471,
     "user": {
      "displayName": "Muhammad Iqbal Shiddiq",
      "photoUrl": "https://lh3.googleusercontent.com/a-/AOh14GiBh5w-MZRdt09mW-hpJDiqcFisM1bzME_DSe2ELA=s64",
      "userId": "07027177044941519057"
     },
     "user_tz": -420
    },
    "id": "oLIoyFR0W5JQ",
    "outputId": "d8a79e82-a763-4cbb-d42a-9e635fdbcd5e"
   },
   "outputs": [
    {
     "data": {
      "text/html": [
       "<div>\n",
       "<style scoped>\n",
       "    .dataframe tbody tr th:only-of-type {\n",
       "        vertical-align: middle;\n",
       "    }\n",
       "\n",
       "    .dataframe tbody tr th {\n",
       "        vertical-align: top;\n",
       "    }\n",
       "\n",
       "    .dataframe thead th {\n",
       "        text-align: right;\n",
       "    }\n",
       "</style>\n",
       "<table border=\"1\" class=\"dataframe\">\n",
       "  <thead>\n",
       "    <tr style=\"text-align: right;\">\n",
       "      <th></th>\n",
       "      <th>Kecamatan</th>\n",
       "      <th>Jumlah Laki-Laki 2018</th>\n",
       "      <th>Jumlah Perempuan 2018</th>\n",
       "      <th>Rata-Rata Usia Laki-Laki 2018</th>\n",
       "      <th>Rata-Rata Usia Perempuan 2018</th>\n",
       "      <th>Jumlah Laki-Laki 2019</th>\n",
       "      <th>Jumlah Perempuan 2019</th>\n",
       "      <th>Rata-Rata Usia Laki-Laki 2019</th>\n",
       "      <th>Rata-Rata Usia Perempuan 2019</th>\n",
       "      <th>Jumlah Laki-Laki 2020</th>\n",
       "      <th>Jumlah Perempuan 2020</th>\n",
       "      <th>Rata-Rata Usia Laki-Laki 2020</th>\n",
       "      <th>Rata-Rata Usia Perempuan 2020</th>\n",
       "      <th>Rasio JK 2018</th>\n",
       "      <th>Rasio JK 2019</th>\n",
       "      <th>Rasio JK 2020</th>\n",
       "    </tr>\n",
       "  </thead>\n",
       "  <tbody>\n",
       "    <tr>\n",
       "      <th>0</th>\n",
       "      <td>Biringkanaya</td>\n",
       "      <td>12</td>\n",
       "      <td>9</td>\n",
       "      <td>50.166667</td>\n",
       "      <td>38.111111</td>\n",
       "      <td>23</td>\n",
       "      <td>17</td>\n",
       "      <td>47.73913</td>\n",
       "      <td>36.941176</td>\n",
       "      <td>16</td>\n",
       "      <td>6</td>\n",
       "      <td>38.875</td>\n",
       "      <td>35.833333</td>\n",
       "      <td>0.75</td>\n",
       "      <td>0.73913</td>\n",
       "      <td>0.375</td>\n",
       "    </tr>\n",
       "    <tr>\n",
       "      <th>1</th>\n",
       "      <td>Bontoala</td>\n",
       "      <td>10</td>\n",
       "      <td>13</td>\n",
       "      <td>42.5</td>\n",
       "      <td>42.230769</td>\n",
       "      <td>22</td>\n",
       "      <td>14</td>\n",
       "      <td>42.272727</td>\n",
       "      <td>41.642857</td>\n",
       "      <td>8</td>\n",
       "      <td>5</td>\n",
       "      <td>39.5</td>\n",
       "      <td>30.0</td>\n",
       "      <td>1.3</td>\n",
       "      <td>0.636364</td>\n",
       "      <td>0.625</td>\n",
       "    </tr>\n",
       "    <tr>\n",
       "      <th>2</th>\n",
       "      <td>Makassar</td>\n",
       "      <td>21</td>\n",
       "      <td>10</td>\n",
       "      <td>38.809524</td>\n",
       "      <td>44.4</td>\n",
       "      <td>25</td>\n",
       "      <td>17</td>\n",
       "      <td>41.36</td>\n",
       "      <td>38.058824</td>\n",
       "      <td>8</td>\n",
       "      <td>6</td>\n",
       "      <td>47.375</td>\n",
       "      <td>40.666667</td>\n",
       "      <td>0.47619</td>\n",
       "      <td>0.68</td>\n",
       "      <td>0.75</td>\n",
       "    </tr>\n",
       "    <tr>\n",
       "      <th>3</th>\n",
       "      <td>Mamajang</td>\n",
       "      <td>2</td>\n",
       "      <td>7</td>\n",
       "      <td>23.0</td>\n",
       "      <td>36.0</td>\n",
       "      <td>7</td>\n",
       "      <td>1</td>\n",
       "      <td>44.0</td>\n",
       "      <td>65.0</td>\n",
       "      <td>3</td>\n",
       "      <td>5</td>\n",
       "      <td>39.333333</td>\n",
       "      <td>33.6</td>\n",
       "      <td>3.5</td>\n",
       "      <td>0.142857</td>\n",
       "      <td>1.666667</td>\n",
       "    </tr>\n",
       "    <tr>\n",
       "      <th>4</th>\n",
       "      <td>Manggala</td>\n",
       "      <td>33</td>\n",
       "      <td>15</td>\n",
       "      <td>38.787879</td>\n",
       "      <td>29.933333</td>\n",
       "      <td>27</td>\n",
       "      <td>17</td>\n",
       "      <td>41.925926</td>\n",
       "      <td>29.411765</td>\n",
       "      <td>12</td>\n",
       "      <td>9</td>\n",
       "      <td>38.5</td>\n",
       "      <td>45.666667</td>\n",
       "      <td>0.454545</td>\n",
       "      <td>0.62963</td>\n",
       "      <td>0.75</td>\n",
       "    </tr>\n",
       "    <tr>\n",
       "      <th>5</th>\n",
       "      <td>Mariso</td>\n",
       "      <td>6</td>\n",
       "      <td>3</td>\n",
       "      <td>31.833333</td>\n",
       "      <td>44.666667</td>\n",
       "      <td>4</td>\n",
       "      <td>8</td>\n",
       "      <td>29.5</td>\n",
       "      <td>40.0</td>\n",
       "      <td>6</td>\n",
       "      <td>3</td>\n",
       "      <td>24.5</td>\n",
       "      <td>28.0</td>\n",
       "      <td>0.5</td>\n",
       "      <td>2.0</td>\n",
       "      <td>0.5</td>\n",
       "    </tr>\n",
       "    <tr>\n",
       "      <th>6</th>\n",
       "      <td>Panakukang</td>\n",
       "      <td>27</td>\n",
       "      <td>24</td>\n",
       "      <td>45.814815</td>\n",
       "      <td>40.5</td>\n",
       "      <td>27</td>\n",
       "      <td>21</td>\n",
       "      <td>49.259259</td>\n",
       "      <td>34.142857</td>\n",
       "      <td>23</td>\n",
       "      <td>14</td>\n",
       "      <td>38.73913</td>\n",
       "      <td>38.5</td>\n",
       "      <td>0.888889</td>\n",
       "      <td>0.777778</td>\n",
       "      <td>0.608696</td>\n",
       "    </tr>\n",
       "    <tr>\n",
       "      <th>7</th>\n",
       "      <td>Rappocini</td>\n",
       "      <td>28</td>\n",
       "      <td>15</td>\n",
       "      <td>41.25</td>\n",
       "      <td>40.333333</td>\n",
       "      <td>22</td>\n",
       "      <td>17</td>\n",
       "      <td>37.454545</td>\n",
       "      <td>33.176471</td>\n",
       "      <td>9</td>\n",
       "      <td>9</td>\n",
       "      <td>34.0</td>\n",
       "      <td>37.555556</td>\n",
       "      <td>0.535714</td>\n",
       "      <td>0.772727</td>\n",
       "      <td>1.0</td>\n",
       "    </tr>\n",
       "    <tr>\n",
       "      <th>8</th>\n",
       "      <td>Tallo</td>\n",
       "      <td>17</td>\n",
       "      <td>20</td>\n",
       "      <td>42.470588</td>\n",
       "      <td>41.85</td>\n",
       "      <td>31</td>\n",
       "      <td>15</td>\n",
       "      <td>41.193548</td>\n",
       "      <td>39.466667</td>\n",
       "      <td>18</td>\n",
       "      <td>4</td>\n",
       "      <td>46.888889</td>\n",
       "      <td>36.75</td>\n",
       "      <td>1.176471</td>\n",
       "      <td>0.483871</td>\n",
       "      <td>0.222222</td>\n",
       "    </tr>\n",
       "    <tr>\n",
       "      <th>9</th>\n",
       "      <td>Tamalanrea</td>\n",
       "      <td>20</td>\n",
       "      <td>8</td>\n",
       "      <td>44.25</td>\n",
       "      <td>38.875</td>\n",
       "      <td>15</td>\n",
       "      <td>8</td>\n",
       "      <td>35.866667</td>\n",
       "      <td>35.125</td>\n",
       "      <td>9</td>\n",
       "      <td>6</td>\n",
       "      <td>40.666667</td>\n",
       "      <td>31.0</td>\n",
       "      <td>0.4</td>\n",
       "      <td>0.533333</td>\n",
       "      <td>0.666667</td>\n",
       "    </tr>\n",
       "    <tr>\n",
       "      <th>10</th>\n",
       "      <td>Tamalate</td>\n",
       "      <td>22</td>\n",
       "      <td>11</td>\n",
       "      <td>35.363636</td>\n",
       "      <td>35.818182</td>\n",
       "      <td>18</td>\n",
       "      <td>17</td>\n",
       "      <td>42.388889</td>\n",
       "      <td>28.352941</td>\n",
       "      <td>17</td>\n",
       "      <td>12</td>\n",
       "      <td>37.411765</td>\n",
       "      <td>42.25</td>\n",
       "      <td>0.5</td>\n",
       "      <td>0.944444</td>\n",
       "      <td>0.705882</td>\n",
       "    </tr>\n",
       "    <tr>\n",
       "      <th>11</th>\n",
       "      <td>Ujung Pandang</td>\n",
       "      <td>5</td>\n",
       "      <td>2</td>\n",
       "      <td>43.4</td>\n",
       "      <td>39.5</td>\n",
       "      <td>4</td>\n",
       "      <td>3</td>\n",
       "      <td>39.25</td>\n",
       "      <td>41.333333</td>\n",
       "      <td>3</td>\n",
       "      <td>3</td>\n",
       "      <td>33.0</td>\n",
       "      <td>43.333333</td>\n",
       "      <td>0.4</td>\n",
       "      <td>0.75</td>\n",
       "      <td>1.0</td>\n",
       "    </tr>\n",
       "    <tr>\n",
       "      <th>12</th>\n",
       "      <td>Ujung Tanah</td>\n",
       "      <td>20</td>\n",
       "      <td>5</td>\n",
       "      <td>44.9</td>\n",
       "      <td>31.2</td>\n",
       "      <td>11</td>\n",
       "      <td>4</td>\n",
       "      <td>33.909091</td>\n",
       "      <td>29.5</td>\n",
       "      <td>5</td>\n",
       "      <td>2</td>\n",
       "      <td>46.2</td>\n",
       "      <td>49.0</td>\n",
       "      <td>0.25</td>\n",
       "      <td>0.363636</td>\n",
       "      <td>0.4</td>\n",
       "    </tr>\n",
       "    <tr>\n",
       "      <th>13</th>\n",
       "      <td>Wajo</td>\n",
       "      <td>3</td>\n",
       "      <td>0</td>\n",
       "      <td>39.0</td>\n",
       "      <td>0</td>\n",
       "      <td>4</td>\n",
       "      <td>5</td>\n",
       "      <td>34.0</td>\n",
       "      <td>50.4</td>\n",
       "      <td>4</td>\n",
       "      <td>1</td>\n",
       "      <td>34.75</td>\n",
       "      <td>24.0</td>\n",
       "      <td>0.0</td>\n",
       "      <td>1.25</td>\n",
       "      <td>0.25</td>\n",
       "    </tr>\n",
       "  </tbody>\n",
       "</table>\n",
       "</div>"
      ],
      "text/plain": [
       "        Kecamatan Jumlah Laki-Laki 2018 Jumlah Perempuan 2018  \\\n",
       "0    Biringkanaya                    12                     9   \n",
       "1        Bontoala                    10                    13   \n",
       "2        Makassar                    21                    10   \n",
       "3        Mamajang                     2                     7   \n",
       "4        Manggala                    33                    15   \n",
       "5          Mariso                     6                     3   \n",
       "6      Panakukang                    27                    24   \n",
       "7       Rappocini                    28                    15   \n",
       "8           Tallo                    17                    20   \n",
       "9      Tamalanrea                    20                     8   \n",
       "10       Tamalate                    22                    11   \n",
       "11  Ujung Pandang                     5                     2   \n",
       "12    Ujung Tanah                    20                     5   \n",
       "13           Wajo                     3                     0   \n",
       "\n",
       "   Rata-Rata Usia Laki-Laki 2018 Rata-Rata Usia Perempuan 2018  \\\n",
       "0                      50.166667                     38.111111   \n",
       "1                           42.5                     42.230769   \n",
       "2                      38.809524                          44.4   \n",
       "3                           23.0                          36.0   \n",
       "4                      38.787879                     29.933333   \n",
       "5                      31.833333                     44.666667   \n",
       "6                      45.814815                          40.5   \n",
       "7                          41.25                     40.333333   \n",
       "8                      42.470588                         41.85   \n",
       "9                          44.25                        38.875   \n",
       "10                     35.363636                     35.818182   \n",
       "11                          43.4                          39.5   \n",
       "12                          44.9                          31.2   \n",
       "13                          39.0                             0   \n",
       "\n",
       "   Jumlah Laki-Laki 2019 Jumlah Perempuan 2019 Rata-Rata Usia Laki-Laki 2019  \\\n",
       "0                     23                    17                      47.73913   \n",
       "1                     22                    14                     42.272727   \n",
       "2                     25                    17                         41.36   \n",
       "3                      7                     1                          44.0   \n",
       "4                     27                    17                     41.925926   \n",
       "5                      4                     8                          29.5   \n",
       "6                     27                    21                     49.259259   \n",
       "7                     22                    17                     37.454545   \n",
       "8                     31                    15                     41.193548   \n",
       "9                     15                     8                     35.866667   \n",
       "10                    18                    17                     42.388889   \n",
       "11                     4                     3                         39.25   \n",
       "12                    11                     4                     33.909091   \n",
       "13                     4                     5                          34.0   \n",
       "\n",
       "   Rata-Rata Usia Perempuan 2019 Jumlah Laki-Laki 2020 Jumlah Perempuan 2020  \\\n",
       "0                      36.941176                    16                     6   \n",
       "1                      41.642857                     8                     5   \n",
       "2                      38.058824                     8                     6   \n",
       "3                           65.0                     3                     5   \n",
       "4                      29.411765                    12                     9   \n",
       "5                           40.0                     6                     3   \n",
       "6                      34.142857                    23                    14   \n",
       "7                      33.176471                     9                     9   \n",
       "8                      39.466667                    18                     4   \n",
       "9                         35.125                     9                     6   \n",
       "10                     28.352941                    17                    12   \n",
       "11                     41.333333                     3                     3   \n",
       "12                          29.5                     5                     2   \n",
       "13                          50.4                     4                     1   \n",
       "\n",
       "   Rata-Rata Usia Laki-Laki 2020 Rata-Rata Usia Perempuan 2020 Rasio JK 2018  \\\n",
       "0                         38.875                     35.833333          0.75   \n",
       "1                           39.5                          30.0           1.3   \n",
       "2                         47.375                     40.666667       0.47619   \n",
       "3                      39.333333                          33.6           3.5   \n",
       "4                           38.5                     45.666667      0.454545   \n",
       "5                           24.5                          28.0           0.5   \n",
       "6                       38.73913                          38.5      0.888889   \n",
       "7                           34.0                     37.555556      0.535714   \n",
       "8                      46.888889                         36.75      1.176471   \n",
       "9                      40.666667                          31.0           0.4   \n",
       "10                     37.411765                         42.25           0.5   \n",
       "11                          33.0                     43.333333           0.4   \n",
       "12                          46.2                          49.0          0.25   \n",
       "13                         34.75                          24.0           0.0   \n",
       "\n",
       "   Rasio JK 2019 Rasio JK 2020  \n",
       "0        0.73913         0.375  \n",
       "1       0.636364         0.625  \n",
       "2           0.68          0.75  \n",
       "3       0.142857      1.666667  \n",
       "4        0.62963          0.75  \n",
       "5            2.0           0.5  \n",
       "6       0.777778      0.608696  \n",
       "7       0.772727           1.0  \n",
       "8       0.483871      0.222222  \n",
       "9       0.533333      0.666667  \n",
       "10      0.944444      0.705882  \n",
       "11          0.75           1.0  \n",
       "12      0.363636           0.4  \n",
       "13          1.25          0.25  "
      ]
     },
     "execution_count": 20,
     "metadata": {},
     "output_type": "execute_result"
    }
   ],
   "source": [
    "data_model.head(14)"
   ]
  },
  {
   "cell_type": "markdown",
   "metadata": {
    "id": "qBysJV8nXCAh"
   },
   "source": [
    "Ada **15 atribut** yang akan dimasukkan ke model"
   ]
  },
  {
   "cell_type": "markdown",
   "metadata": {
    "id": "pgqjbl57WDdq"
   },
   "source": [
    "# Modelling"
   ]
  },
  {
   "cell_type": "markdown",
   "metadata": {
    "id": "0rbbykGvWIX8"
   },
   "source": [
    "## Normalisasi Data"
   ]
  },
  {
   "cell_type": "markdown",
   "metadata": {
    "id": "_2CVthesXbBz"
   },
   "source": [
    "Menjadikan kecamatan sebagai Index"
   ]
  },
  {
   "cell_type": "code",
   "execution_count": 21,
   "metadata": {
    "executionInfo": {
     "elapsed": 48,
     "status": "ok",
     "timestamp": 1621861773472,
     "user": {
      "displayName": "Muhammad Iqbal Shiddiq",
      "photoUrl": "https://lh3.googleusercontent.com/a-/AOh14GiBh5w-MZRdt09mW-hpJDiqcFisM1bzME_DSe2ELA=s64",
      "userId": "07027177044941519057"
     },
     "user_tz": -420
    },
    "id": "6-Hk9JBCWKW7"
   },
   "outputs": [],
   "source": [
    "kecamatan = data_model['Kecamatan']\n",
    "data_model.set_index('Kecamatan', inplace = True)"
   ]
  },
  {
   "cell_type": "markdown",
   "metadata": {
    "id": "y3OcLlv0XtQM"
   },
   "source": [
    "Normalize Data"
   ]
  },
  {
   "cell_type": "code",
   "execution_count": 22,
   "metadata": {
    "executionInfo": {
     "elapsed": 49,
     "status": "ok",
     "timestamp": 1621861773473,
     "user": {
      "displayName": "Muhammad Iqbal Shiddiq",
      "photoUrl": "https://lh3.googleusercontent.com/a-/AOh14GiBh5w-MZRdt09mW-hpJDiqcFisM1bzME_DSe2ELA=s64",
      "userId": "07027177044941519057"
     },
     "user_tz": -420
    },
    "id": "hHZz0BMrXugv"
   },
   "outputs": [],
   "source": [
    "x = data_model.values #returns a numpy array\n",
    "min_max_scaler = preprocessing.MinMaxScaler()\n",
    "x_scaled = min_max_scaler.fit_transform(x)"
   ]
  },
  {
   "cell_type": "markdown",
   "metadata": {
    "id": "uxRxZBjVbJmv"
   },
   "source": [
    "## Silhouette Coefficient"
   ]
  },
  {
   "cell_type": "code",
   "execution_count": 23,
   "metadata": {
    "colab": {
     "base_uri": "https://localhost:8080/",
     "height": 0
    },
    "executionInfo": {
     "elapsed": 5871,
     "status": "ok",
     "timestamp": 1621861779297,
     "user": {
      "displayName": "Muhammad Iqbal Shiddiq",
      "photoUrl": "https://lh3.googleusercontent.com/a-/AOh14GiBh5w-MZRdt09mW-hpJDiqcFisM1bzME_DSe2ELA=s64",
      "userId": "07027177044941519057"
     },
     "user_tz": -420
    },
    "id": "_Wk8Ly2AbVOR",
    "outputId": "0a5969e8-8e7c-4604-a79f-3eb2fedf40c1"
   },
   "outputs": [
    {
     "name": "stdout",
     "output_type": "stream",
     "text": [
      "Untuk n = 2 Rata-rata silhouette_score : 0.31184082384727496\n",
      "Untuk n = 3 Rata-rata silhouette_score : 0.273108617381381\n",
      "Untuk n = 4 Rata-rata silhouette_score : 0.21795390882568869\n",
      "Untuk n = 5 Rata-rata silhouette_score : 0.170072288646225\n",
      "Untuk n = 6 Rata-rata silhouette_score : 0.14709434613791242\n",
      "Untuk n = 7 Rata-rata silhouette_score : 0.13013997519251583\n",
      "Untuk n = 8 Rata-rata silhouette_score : 0.12454106739869461\n",
      "Untuk n = 9 Rata-rata silhouette_score : 0.08721426908348177\n"
     ]
    },
    {
     "data": {
      "image/png": "[encoded data removed]",
      "text/plain": [
       "<Figure size 1296x504 with 2 Axes>"
      ]
     },
     "metadata": {
      "needs_background": "light"
     },
     "output_type": "display_data"
    },
    {
     "data": {
      "image/png": "[encoded data removed]",
      "text/plain": [
       "<Figure size 1296x504 with 2 Axes>"
      ]
     },
     "metadata": {
      "needs_background": "light"
     },
     "output_type": "display_data"
    },
    {
     "data": {
      "image/png": "[encoded data removed]",
      "text/plain": [
       "<Figure size 1296x504 with 2 Axes>"
      ]
     },
     "metadata": {
      "needs_background": "light"
     },
     "output_type": "display_data"
    },
    {
     "data": {
      "image/png": "[encoded data removed]",
      "text/plain": [
       "<Figure size 1296x504 with 2 Axes>"
      ]
     },
     "metadata": {
      "needs_background": "light"
     },
     "output_type": "display_data"
    },
    {
     "data": {
      "image/png": "[encoded data removed]",
      "text/plain": [
       "<Figure size 1296x504 with 2 Axes>"
      ]
     },
     "metadata": {
      "needs_background": "light"
     },
     "output_type": "display_data"
    },
    {
     "data": {
      "image/png": "[encoded data removed]",
      "text/plain": [
       "<Figure size 1296x504 with 2 Axes>"
      ]
     },
     "metadata": {
      "needs_background": "light"
     },
     "output_type": "display_data"
    },
    {
     "data": {
      "image/png": "[encoded data removed]",
      "text/plain": [
       "<Figure size 1296x504 with 2 Axes>"
      ]
     },
     "metadata": {
      "needs_background": "light"
     },
     "output_type": "display_data"
    },
    {
     "data": {
      "image/png": "[encoded data removed]",
      "text/plain": [
       "<Figure size 1296x504 with 2 Axes>"
      ]
     },
     "metadata": {
      "needs_background": "light"
     },
     "output_type": "display_data"
    }
   ],
   "source": [
    "range_n_clusters = [2, 3, 4, 5, 6, 7, 8, 9]\n",
    "\n",
    "for n_clusters in range_n_clusters:\n",
    "    fig, (ax1, ax2) = plt.subplots(1, 2)\n",
    "    fig.set_size_inches(18, 7)\n",
    "\n",
    "    ax1.set_xlim([-0.1, 1])\n",
    "    ax1.set_ylim([0, len(x_scaled) + (n_clusters + 1) * 10])\n",
    "\n",
    "    clusterer = KMeans(n_clusters=n_clusters, random_state=10)\n",
    "    cluster_labels = clusterer.fit_predict(x_scaled)\n",
    "\n",
    "    silhouette_avg = silhouette_score(x_scaled, cluster_labels)\n",
    "    print(\"Untuk n =\", n_clusters,\n",
    "          \"Rata-rata silhouette_score :\", silhouette_avg)\n",
    "\n",
    "    sample_silhouette_values = silhouette_samples(x_scaled, cluster_labels)\n",
    "\n",
    "    y_lower = 10\n",
    "    for i in range(n_clusters):\n",
    "        ith_cluster_silhouette_values = \\\n",
    "            sample_silhouette_values[cluster_labels == i]\n",
    "\n",
    "        ith_cluster_silhouette_values.sort()\n",
    "\n",
    "        size_cluster_i = ith_cluster_silhouette_values.shape[0]\n",
    "        y_upper = y_lower + size_cluster_i\n",
    "\n",
    "        color = cm.nipy_spectral(float(i) / n_clusters)\n",
    "        ax1.fill_betweenx(np.arange(y_lower, y_upper),\n",
    "                          0, ith_cluster_silhouette_values,\n",
    "                          facecolor=color, edgecolor=color, alpha=0.7)\n",
    "\n",
    "        ax1.text(-0.05, y_lower + 0.5 * size_cluster_i, str(i))\n",
    "\n",
    "        y_lower = y_upper + 10\n",
    "\n",
    "    ax1.set_title(\"The silhouette plot for the various clusters.\")\n",
    "    ax1.set_xlabel(\"The silhouette coefficient values\")\n",
    "    ax1.set_ylabel(\"Cluster label\")\n",
    "\n",
    "    ax1.axvline(x=silhouette_avg, color=\"red\", linestyle=\"--\")\n",
    "\n",
    "    ax1.set_yticks([])\n",
    "    ax1.set_xticks([-0.1, 0, 0.2, 0.4, 0.6, 0.8, 1])\n",
    "\n",
    "    colors = cm.nipy_spectral(cluster_labels.astype(float) / n_clusters)\n",
    "    ax2.scatter(x_scaled[:, 0], x_scaled[:, 1], marker='.', s=30, lw=0, alpha=0.7,\n",
    "                c=colors, edgecolor='k')\n",
    "\n",
    "    centers = clusterer.cluster_centers_\n",
    "    ax2.scatter(centers[:, 0], centers[:, 1], marker='o',\n",
    "                c=\"white\", alpha=1, s=200, edgecolor='k')\n",
    "\n",
    "    for i, c in enumerate(centers):\n",
    "        ax2.scatter(c[0], c[1], marker='$%d$' % i, alpha=1,\n",
    "                    s=50, edgecolor='k')\n",
    "\n",
    "    ax2.set_title(\"The visualization of the clustered data.\")\n",
    "    ax2.set_xlabel(\"Feature space for the 1st feature\")\n",
    "    ax2.set_ylabel(\"Feature space for the 2nd feature\")\n",
    "\n",
    "    plt.suptitle((\"Silhouette analysis for KMeans clustering on sample data \"\n",
    "                  \"with n_clusters = %d\" % n_clusters),\n",
    "                 fontsize=14, fontweight='bold')\n",
    "\n",
    "plt.show()"
   ]
  },
  {
   "cell_type": "markdown",
   "metadata": {
    "id": "_jFvx99TeByI"
   },
   "source": [
    "Dilihat dari nilai **koefisien Silhouette**, nilai K yang paling optimum adalah **3**"
   ]
  },
  {
   "cell_type": "markdown",
   "metadata": {
    "id": "TGt1VujWbLlt"
   },
   "source": [
    "## K-Means"
   ]
  },
  {
   "cell_type": "code",
   "execution_count": 24,
   "metadata": {
    "colab": {
     "base_uri": "https://localhost:8080/"
    },
    "executionInfo": {
     "elapsed": 43,
     "status": "ok",
     "timestamp": 1621861779298,
     "user": {
      "displayName": "Muhammad Iqbal Shiddiq",
      "photoUrl": "https://lh3.googleusercontent.com/a-/AOh14GiBh5w-MZRdt09mW-hpJDiqcFisM1bzME_DSe2ELA=s64",
      "userId": "07027177044941519057"
     },
     "user_tz": -420
    },
    "id": "HnScOKEiaOUl",
    "outputId": "f1348b43-9c1c-41df-f161-732f821fe07b"
   },
   "outputs": [
    {
     "data": {
      "text/plain": [
       "KMeans(n_clusters=2, random_state=123)"
      ]
     },
     "execution_count": 24,
     "metadata": {},
     "output_type": "execute_result"
    }
   ],
   "source": [
    "kmeans = KMeans(n_clusters = 2, random_state=123)\n",
    "kmeans.fit(x_scaled)"
   ]
  },
  {
   "cell_type": "code",
   "execution_count": 25,
   "metadata": {
    "executionInfo": {
     "elapsed": 42,
     "status": "ok",
     "timestamp": 1621861779300,
     "user": {
      "displayName": "Muhammad Iqbal Shiddiq",
      "photoUrl": "https://lh3.googleusercontent.com/a-/AOh14GiBh5w-MZRdt09mW-hpJDiqcFisM1bzME_DSe2ELA=s64",
      "userId": "07027177044941519057"
     },
     "user_tz": -420
    },
    "id": "qh5w__ZufSH4"
   },
   "outputs": [
    {
     "data": {
      "text/plain": [
       "array([0, 0, 0, 1, 0, 1, 0, 0, 0, 0, 0, 1, 1, 1])"
      ]
     },
     "execution_count": 25,
     "metadata": {},
     "output_type": "execute_result"
    }
   ],
   "source": [
    "y_kmeans = kmeans.predict(x_scaled)\n",
    "y_kmeans"
   ]
  },
  {
   "cell_type": "code",
   "execution_count": 26,
   "metadata": {
    "colab": {
     "base_uri": "https://localhost:8080/"
    },
    "executionInfo": {
     "elapsed": 42,
     "status": "ok",
     "timestamp": 1621861779301,
     "user": {
      "displayName": "Muhammad Iqbal Shiddiq",
      "photoUrl": "https://lh3.googleusercontent.com/a-/AOh14GiBh5w-MZRdt09mW-hpJDiqcFisM1bzME_DSe2ELA=s64",
      "userId": "07027177044941519057"
     },
     "user_tz": -420
    },
    "id": "lDcKNuMVaiMv",
    "outputId": "cd32e1d0-e70b-41e6-d2a0-8aacb44fdc87"
   },
   "outputs": [
    {
     "name": "stdout",
     "output_type": "stream",
     "text": [
      "[[0.61648746 0.5787037  0.70516609 0.87575057 0.71604938 0.74444444\n",
      "  0.64082864 0.18537818 0.51666667 0.52991453 0.68709873 0.54320988\n",
      "  0.20577174 0.29385421 0.28488207]\n",
      " [0.16774194 0.14166667 0.49423313 0.67776119 0.07407407 0.16\n",
      "  0.33563091 0.46098448 0.06       0.13846154 0.48335155 0.46346667\n",
      "  0.26571429 0.40839161 0.37461538]]\n"
     ]
    }
   ],
   "source": [
    "print(kmeans.cluster_centers_)"
   ]
  },
  {
   "cell_type": "code",
   "execution_count": 27,
   "metadata": {
    "executionInfo": {
     "elapsed": 42,
     "status": "ok",
     "timestamp": 1621861779302,
     "user": {
      "displayName": "Muhammad Iqbal Shiddiq",
      "photoUrl": "https://lh3.googleusercontent.com/a-/AOh14GiBh5w-MZRdt09mW-hpJDiqcFisM1bzME_DSe2ELA=s64",
      "userId": "07027177044941519057"
     },
     "user_tz": -420
    },
    "id": "8cHtCPhUapq9"
   },
   "outputs": [],
   "source": [
    "data_model['cluster'] = kmeans.labels_"
   ]
  },
  {
   "cell_type": "code",
   "execution_count": 28,
   "metadata": {
    "colab": {
     "base_uri": "https://localhost:8080/",
     "height": 281
    },
    "executionInfo": {
     "elapsed": 42,
     "status": "ok",
     "timestamp": 1621861779303,
     "user": {
      "displayName": "Muhammad Iqbal Shiddiq",
      "photoUrl": "https://lh3.googleusercontent.com/a-/AOh14GiBh5w-MZRdt09mW-hpJDiqcFisM1bzME_DSe2ELA=s64",
      "userId": "07027177044941519057"
     },
     "user_tz": -420
    },
    "id": "_OdNFmMseXul",
    "outputId": "914ce71e-0fb9-4b97-8471-4b039acf031f"
   },
   "outputs": [
    {
     "data": {
      "image/png": "[encoded data removed]",
      "text/plain": [
       "<Figure size 432x288 with 2 Axes>"
      ]
     },
     "metadata": {
      "needs_background": "light"
     },
     "output_type": "display_data"
    },
    {
     "data": {
      "text/plain": [
       "<matplotlib.collections.PathCollection at 0x204fc539c08>"
      ]
     },
     "execution_count": 28,
     "metadata": {},
     "output_type": "execute_result"
    }
   ],
   "source": [
    "output = plt.scatter(x_scaled[:,0], x_scaled[:,1], s = 100, c = data_model.cluster, marker = \"o\", alpha = 1, )\n",
    "centers = kmeans.cluster_centers_\n",
    "plt.scatter(centers[:,0], centers[:,1], c='red', s=200, alpha=1 , marker=\"o\");\n",
    "plt.title(\"Hasil Klustering K-Means\")\n",
    "plt.colorbar (output)\n",
    "plt.show()\n",
    "output"
   ]
  },
  {
   "cell_type": "code",
   "execution_count": 29,
   "metadata": {
    "colab": {
     "base_uri": "https://localhost:8080/",
     "height": 265
    },
    "executionInfo": {
     "elapsed": 42,
     "status": "ok",
     "timestamp": 1621861779305,
     "user": {
      "displayName": "Muhammad Iqbal Shiddiq",
      "photoUrl": "https://lh3.googleusercontent.com/a-/AOh14GiBh5w-MZRdt09mW-hpJDiqcFisM1bzME_DSe2ELA=s64",
      "userId": "07027177044941519057"
     },
     "user_tz": -420
    },
    "id": "UFfXteHsfHhE",
    "outputId": "7bafb982-355e-412b-86cd-b50163f76e7b"
   },
   "outputs": [
    {
     "data": {
      "image/png": "[encoded data removed]",
      "text/plain": [
       "<Figure size 432x288 with 1 Axes>"
      ]
     },
     "metadata": {
      "needs_background": "light"
     },
     "output_type": "display_data"
    }
   ],
   "source": [
    "plt.scatter(x_scaled[:, 0], x_scaled[:, 1], c=y_kmeans, s=50, cmap='viridis')\n",
    "\n",
    "centers = kmeans.cluster_centers_\n",
    "plt.scatter(centers[:, 0], centers[:, 1], c='blue', s=250, alpha=0.5);"
   ]
  }
 ],
 "metadata": {
  "colab": {
   "authorship_tag": "ABX9TyP95UlKtx1u9I5hxB8SX7kf",
   "name": "K-Means Resa.ipynb",
   "provenance": []
  },
  "kernelspec": {
   "display_name": "Python 3",
   "language": "python",
   "name": "python3"
  },
  "language_info": {
   "codemirror_mode": {
    "name": "ipython",
    "version": 3
   },
   "file_extension": ".py",
   "mimetype": "text/x-python",
   "name": "python",
   "nbconvert_exporter": "python",
   "pygments_lexer": "ipython3",
   "version": "3.7.8"
  }
 },
 "nbformat": 4,
 "nbformat_minor": 4
}
